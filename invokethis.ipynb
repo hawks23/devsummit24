{
 "cells": [
  {
   "cell_type": "code",
   "execution_count": 1,
   "metadata": {},
   "outputs": [
    {
     "data": {
      "text/plain": [
       "True"
      ]
     },
     "execution_count": 1,
     "metadata": {},
     "output_type": "execute_result"
    }
   ],
   "source": [
    "from dotenv import load_dotenv\n",
    "load_dotenv()"
   ]
  },
  {
   "cell_type": "code",
   "execution_count": 2,
   "metadata": {},
   "outputs": [],
   "source": [
    "from langchain_groq import ChatGroq\n",
    "\n",
    "llm = ChatGroq(temperature=0, model=\"llama3-70b-8192\")"
   ]
  },
  {
   "cell_type": "code",
   "execution_count": 5,
   "metadata": {},
   "outputs": [
    {
     "data": {
      "text/plain": [
       "AIMessage(content=\"A banana fry! That sounds like a delicious and unique treat! Here's a simple recipe to make a banana fry:\\n\\n**Ingredients:**\\n\\n* 2-3 ripe bananas\\n* 1/2 cup all-purpose flour\\n* 1/4 teaspoon salt\\n* 1/4 teaspoon sugar (optional)\\n* 1/2 teaspoon cinnamon powder (optional)\\n* Vegetable oil for frying\\n* Powdered sugar for dusting (optional)\\n\\n**Instructions:**\\n\\n1. **Prepare the bananas**: Peel the bananas and slice them into 1-inch thick rounds.\\n2. **Create the coating mixture**: In a shallow dish, mix together the flour, salt, sugar, and cinnamon powder (if using).\\n3. **Coat the banana slices**: Dip each banana slice into the coating mixture, pressing the mixture onto the banana to ensure it adheres evenly.\\n4. **Heat the oil**: Heat about 2-3 inches (5-7.5 cm) of vegetable oil in a deep frying pan over medium-high heat until it reaches 350°F (180°C).\\n5. **Fry the banana slices**: Carefully place a few banana slices into the hot oil. Do not overcrowd the pan. Fry for 2-3 minutes on each side, or until the banana slices are golden brown and crispy.\\n6. **Drain excess oil**: Using a slotted spoon, remove the fried banana slices from the oil and place them on a paper towel-lined plate to drain excess oil.\\n7. **Dust with powdered sugar (optional)**: If desired, dust the fried banana slices with powdered sugar while still warm.\\n8. **Serve and enjoy**: Serve the banana fries warm and enjoy as a sweet snack or dessert. You can also serve them with a scoop of ice cream or whipped cream for an extra-special treat.\\n\\n**Tips:**\\n\\n* Use ripe bananas for the best flavor and texture.\\n* If you want a crisper coating, you can chill the coated banana slices in the refrigerator for 30 minutes before frying.\\n* Be careful when working with hot oil, as it can cause burns.\\n* Don't overcrowd the pan, as this can lower the oil temperature and result in greasy or undercooked banana fries.\\n\\nI hope you enjoy your banana fries!\", response_metadata={'token_usage': {'completion_time': 1.644832085, 'completion_tokens': 464, 'prompt_time': 0.007862871, 'prompt_tokens': 18, 'queue_time': None, 'total_time': 1.652694956, 'total_tokens': 482}, 'model_name': 'llama3-70b-8192', 'system_fingerprint': 'fp_c1a4bcec29', 'finish_reason': 'stop', 'logprobs': None}, id='run-778cf47c-6174-45c0-8294-8193b4bbb735-0')"
      ]
     },
     "execution_count": 5,
     "metadata": {},
     "output_type": "execute_result"
    }
   ],
   "source": [
    "x = llm.invoke(\"How can i make a banana fry ?\")\n",
    "x"
   ]
  },
  {
   "cell_type": "code",
   "execution_count": 9,
   "metadata": {},
   "outputs": [
    {
     "name": "stdout",
     "output_type": "stream",
     "text": [
      "A banana fry! That sounds like a delicious and unique treat! Here's a simple recipe to make a banana fry:\n",
      "\n",
      "**Ingredients:**\n",
      "\n",
      "* 2-3 ripe bananas\n",
      "* 1/2 cup all-purpose flour\n",
      "* 1/4 teaspoon salt\n",
      "* 1/4 teaspoon sugar (optional)\n",
      "* 1/2 teaspoon cinnamon powder (optional)\n",
      "* Vegetable oil for frying\n",
      "* Powdered sugar for dusting (optional)\n",
      "\n",
      "**Instructions:**\n",
      "\n",
      "1. **Prepare the bananas**: Peel the bananas and slice them into 1-inch thick rounds.\n",
      "2. **Create the coating mixture**: In a shallow dish, mix together the flour, salt, sugar, and cinnamon powder (if using).\n",
      "3. **Coat the banana slices**: Dip each banana slice into the coating mixture, pressing the mixture onto the banana to ensure it adheres evenly.\n",
      "4. **Heat the oil**: Heat about 2-3 inches (5-7.5 cm) of vegetable oil in a deep frying pan over medium-high heat until it reaches 350°F (180°C).\n",
      "5. **Fry the banana slices**: Carefully place a few coated banana slices into the hot oil. Do not overcrowd the pan. Fry for 2-3 minutes on each side, or until the banana slices are golden brown and crispy.\n",
      "6. **Drain excess oil**: Using a slotted spoon, remove the fried banana slices from the oil and place them on a paper towel-lined plate to drain excess oil.\n",
      "7. **Dust with powdered sugar (optional)**: If desired, dust the fried banana slices with powdered sugar while still warm.\n",
      "8. **Serve and enjoy**: Serve the banana fries warm and enjoy as a sweet snack or dessert. You can also serve them with a scoop of ice cream or whipped cream for an extra-special treat.\n",
      "\n",
      "**Tips:**\n",
      "\n",
      "* Use ripe bananas for the best flavor and texture.\n",
      "* If you want a crisper coating, you can chill the coated banana slices in the refrigerator for 30 minutes before frying.\n",
      "* Be careful when working with hot oil, as it can cause burns.\n",
      "* Don't overcrowd the pan, as this can lower the oil temperature and result in greasy or undercooked banana fries.\n",
      "\n",
      "I hope you enjoy your banana fries!\n"
     ]
    }
   ],
   "source": [
    "from langchain_core.output_parsers import StrOutputParser\n",
    "\n",
    "chain = llm | StrOutputParser()\n",
    "print(chain.invoke(\"How can i make a banana fry ?\"))"
   ]
  }
 ],
 "metadata": {
  "kernelspec": {
   "display_name": "talrop_1",
   "language": "python",
   "name": "python3"
  },
  "language_info": {
   "codemirror_mode": {
    "name": "ipython",
    "version": 3
   },
   "file_extension": ".py",
   "mimetype": "text/x-python",
   "name": "python",
   "nbconvert_exporter": "python",
   "pygments_lexer": "ipython3",
   "version": "3.11.9"
  }
 },
 "nbformat": 4,
 "nbformat_minor": 2
}
